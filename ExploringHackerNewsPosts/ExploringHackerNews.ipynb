{
 "cells": [
  {
   "cell_type": "markdown",
   "metadata": {
    "collapsed": true
   },
   "source": [
    "## Exploring Hacker News Posts\n",
    "### 1. Introduction\n",
    "Hacker News is a website started by the startup incubator Y Combinator, where user-submitted stories (known as \"posts\") are voted and commented upon, similar to reddit. Hundreds of thousands of vistiors may view the top rated of these posts as Hacker News is extremely popular in technology and startup circles.\n",
    "\n",
    "The original dataset can be found [here](https://www.kaggle.com/hacker-news/hacker-news-posts), do note that it has been reduced from almost 300,000 rows to approximately 20,00 rows by removing all submissions that did not recieve any comments and then randomly samplying from the remaining submissions."
   ]
  },
  {
   "cell_type": "markdown",
   "metadata": {},
   "source": [
    "Below are descriptions of the columns:\n",
    "\n",
    "   - id: The unique identifier from Hacker News for the post\n",
    "   - title: The title of the post\n",
    "   - url: The URL that the posts links to, if it the post has a URL\n",
    "   - num_points: The number of points the post acquired, calculated as the total number of upvotes minus the total number of downvotes\n",
    "   - num_comments: The number of comments that were made on the post\n",
    "   - author: The username of the person who submitted the post\n",
    "   - created_at: The date and time at which the post was submitted"
   ]
  },
  {
   "cell_type": "code",
   "execution_count": 1,
   "metadata": {},
   "outputs": [],
   "source": [
    "#Opening the dataset\n",
    "from csv import reader\n",
    "opened_file = open('hacker_news.csv')\n",
    "read_file = reader(opened_file)\n",
    "hn = list(read_file)"
   ]
  },
  {
   "cell_type": "code",
   "execution_count": 2,
   "metadata": {},
   "outputs": [
    {
     "name": "stdout",
     "output_type": "stream",
     "text": [
      "[['id', 'title', 'url', 'num_points', 'num_comments', 'author', 'created_at'], ['12224879', 'Interactive Dynamic Video', 'http://www.interactivedynamicvideo.com/', '386', '52', 'ne0phyte', '8/4/2016 11:52'], ['10975351', 'How to Use Open Source and Shut the Fuck Up at the Same Time', 'http://hueniverse.com/2016/01/26/how-to-use-open-source-and-shut-the-fuck-up-at-the-same-time/', '39', '10', 'josep2', '1/26/2016 19:30'], ['11964716', \"Florida DJs May Face Felony for April Fools' Water Joke\", 'http://www.thewire.com/entertainment/2013/04/florida-djs-april-fools-water-joke/63798/', '2', '1', 'vezycash', '6/23/2016 22:20'], ['11919867', 'Technology ventures: From Idea to Enterprise', 'https://www.amazon.com/Technology-Ventures-Enterprise-Thomas-Byers/dp/0073523429', '3', '1', 'hswarna', '6/17/2016 0:01']]\n"
     ]
    }
   ],
   "source": [
    "print(hn[:5])"
   ]
  },
  {
   "cell_type": "markdown",
   "metadata": {},
   "source": [
    "### 2. Removing the Header from the data and exploring the data"
   ]
  },
  {
   "cell_type": "code",
   "execution_count": 3,
   "metadata": {},
   "outputs": [],
   "source": [
    "headers = hn[:1] #Copy Header information to it's own variable\n",
    "hn = hn[1:] #set the data to just be the data without the header"
   ]
  },
  {
   "cell_type": "code",
   "execution_count": 4,
   "metadata": {},
   "outputs": [
    {
     "data": {
      "text/plain": [
       "[['id', 'title', 'url', 'num_points', 'num_comments', 'author', 'created_at']]"
      ]
     },
     "execution_count": 4,
     "metadata": {},
     "output_type": "execute_result"
    }
   ],
   "source": [
    "headers"
   ]
  },
  {
   "cell_type": "code",
   "execution_count": 5,
   "metadata": {},
   "outputs": [
    {
     "data": {
      "text/plain": [
       "[['12224879',\n",
       "  'Interactive Dynamic Video',\n",
       "  'http://www.interactivedynamicvideo.com/',\n",
       "  '386',\n",
       "  '52',\n",
       "  'ne0phyte',\n",
       "  '8/4/2016 11:52'],\n",
       " ['10975351',\n",
       "  'How to Use Open Source and Shut the Fuck Up at the Same Time',\n",
       "  'http://hueniverse.com/2016/01/26/how-to-use-open-source-and-shut-the-fuck-up-at-the-same-time/',\n",
       "  '39',\n",
       "  '10',\n",
       "  'josep2',\n",
       "  '1/26/2016 19:30'],\n",
       " ['11964716',\n",
       "  \"Florida DJs May Face Felony for April Fools' Water Joke\",\n",
       "  'http://www.thewire.com/entertainment/2013/04/florida-djs-april-fools-water-joke/63798/',\n",
       "  '2',\n",
       "  '1',\n",
       "  'vezycash',\n",
       "  '6/23/2016 22:20'],\n",
       " ['11919867',\n",
       "  'Technology ventures: From Idea to Enterprise',\n",
       "  'https://www.amazon.com/Technology-Ventures-Enterprise-Thomas-Byers/dp/0073523429',\n",
       "  '3',\n",
       "  '1',\n",
       "  'hswarna',\n",
       "  '6/17/2016 0:01'],\n",
       " ['10301696',\n",
       "  'Note by Note: The Making of Steinway L1037 (2007)',\n",
       "  'http://www.nytimes.com/2007/11/07/movies/07stein.html?_r=0',\n",
       "  '8',\n",
       "  '2',\n",
       "  'walterbell',\n",
       "  '9/30/2015 4:12']]"
      ]
     },
     "execution_count": 5,
     "metadata": {},
     "output_type": "execute_result"
    }
   ],
   "source": [
    "hn[:5]"
   ]
  },
  {
   "cell_type": "markdown",
   "metadata": {},
   "source": [
    "### 3. Extracting Ask / Show / Other posts from the Hacker News posts.\n"
   ]
  },
  {
   "cell_type": "code",
   "execution_count": 6,
   "metadata": {},
   "outputs": [],
   "source": [
    "ask_posts = []\n",
    "show_posts = []\n",
    "other_posts = []"
   ]
  },
  {
   "cell_type": "code",
   "execution_count": 7,
   "metadata": {},
   "outputs": [],
   "source": [
    "for row in hn:\n",
    "    title = row[1]\n",
    "    title= title.lower()\n",
    "    if title.startswith('ask hn'):\n",
    "        ask_posts.append(row)\n",
    "    elif title.startswith('show hn'):\n",
    "        show_posts.append(row)\n",
    "    else:\n",
    "        other_posts.append(row)"
   ]
  },
  {
   "cell_type": "code",
   "execution_count": 8,
   "metadata": {},
   "outputs": [
    {
     "name": "stdout",
     "output_type": "stream",
     "text": [
      "1744\n",
      "1162\n",
      "17194\n"
     ]
    }
   ],
   "source": [
    "print(len(ask_posts))\n",
    "print(len(show_posts))\n",
    "print(len(other_posts))"
   ]
  },
  {
   "cell_type": "markdown",
   "metadata": {},
   "source": [
    "Upon extracting the ask/show/other posts we can see the following... <br>\n",
    "Ask   - 1744 posts<br>\n",
    "Show  - 1162 posts<br>\n",
    "Other - 17194 posts"
   ]
  },
  {
   "cell_type": "markdown",
   "metadata": {},
   "source": [
    "### 4. Calculating the Average Number of Comments for Ask / Show HN posts."
   ]
  },
  {
   "cell_type": "code",
   "execution_count": 9,
   "metadata": {},
   "outputs": [
    {
     "name": "stdout",
     "output_type": "stream",
     "text": [
      "14.038417431192661\n"
     ]
    }
   ],
   "source": [
    "total_ask_comments = 0\n",
    "for row in ask_posts:\n",
    "    num_comments = int(row[4])\n",
    "    total_ask_comments+=num_comments\n",
    "avg_ask_comments = total_ask_comments/len(ask_posts)\n",
    "print(avg_ask_comments)"
   ]
  },
  {
   "cell_type": "code",
   "execution_count": 10,
   "metadata": {},
   "outputs": [
    {
     "name": "stdout",
     "output_type": "stream",
     "text": [
      "10.31669535283993\n"
     ]
    }
   ],
   "source": [
    "total_show_comments = 0\n",
    "for row in show_posts:\n",
    "    num_comments = int(row[4])\n",
    "    total_show_comments+=num_comments\n",
    "avg_show_comments = total_show_comments/len(show_posts)\n",
    "print(avg_show_comments)"
   ]
  },
  {
   "cell_type": "markdown",
   "metadata": {},
   "source": [
    "Upon inspecting the average comments for ask / show hn posts we can see that on average ask posts recieve roughly 4 more comments per post at 14.038 vs the average of show comment posts being 10.32. Since ask posts are more likely to recieve comments we will focus our remaining analysis on just these posts."
   ]
  },
  {
   "cell_type": "markdown",
   "metadata": {},
   "source": [
    "### 5. Find the Amount of Ask Posts and Comments by Hour Created"
   ]
  },
  {
   "cell_type": "code",
   "execution_count": 11,
   "metadata": {},
   "outputs": [],
   "source": [
    "import datetime as dt\n",
    "result_list=[]\n",
    "\n",
    "for row in ask_posts:\n",
    "    result_list.append([row[6],int(row[4])])\n",
    "counts_by_hour={}\n",
    "comments_by_hour={}\n",
    "for row in result_list:\n",
    "    date = dt.datetime.strptime(row[0],\"%m/%d/%Y %H:%M\")\n",
    "    hour = dt.datetime.strftime(date,\"%H\")\n",
    "    if hour not in counts_by_hour:\n",
    "        counts_by_hour[hour] = 1\n",
    "        comments_by_hour[hour] = row[1]\n",
    "    else:\n",
    "        counts_by_hour[hour]+=1\n",
    "        comments_by_hour[hour]+=row[1]\n",
    "        \n",
    "    "
   ]
  },
  {
   "cell_type": "code",
   "execution_count": 12,
   "metadata": {},
   "outputs": [
    {
     "name": "stdout",
     "output_type": "stream",
     "text": [
      "{'09': 251, '13': 1253, '10': 793, '14': 1416, '16': 1814, '23': 543, '12': 687, '17': 1146, '15': 4477, '21': 1745, '20': 1722, '02': 1381, '18': 1439, '03': 421, '05': 464, '19': 1188, '01': 683, '22': 479, '08': 492, '04': 337, '00': 447, '06': 397, '07': 267, '11': 641}\n",
      "{'09': 45, '13': 85, '10': 59, '14': 107, '16': 108, '23': 68, '12': 73, '17': 100, '15': 116, '21': 109, '20': 80, '02': 58, '18': 109, '03': 54, '05': 46, '19': 110, '01': 60, '22': 71, '08': 48, '04': 47, '00': 55, '06': 44, '07': 34, '11': 58}\n"
     ]
    }
   ],
   "source": [
    "print(comments_by_hour)\n",
    "print(counts_by_hour)"
   ]
  },
  {
   "cell_type": "markdown",
   "metadata": {},
   "source": [
    "Exploring the data we found we can see that certain hours are more popular by hour. Hour 15 with 4477 seems to be an incredible popular time to comment. While hour 04 is much less at 337."
   ]
  },
  {
   "cell_type": "markdown",
   "metadata": {},
   "source": [
    "### 6. Calculating the Average Number of Comments for Ask HN Posts by Hour"
   ]
  },
  {
   "cell_type": "code",
   "execution_count": 13,
   "metadata": {},
   "outputs": [],
   "source": [
    "avg_by_hour = []\n",
    "for hours in comments_by_hour:\n",
    "    avg_by_hour.append([hours,comments_by_hour[hours]/counts_by_hour[hours]])"
   ]
  },
  {
   "cell_type": "code",
   "execution_count": 14,
   "metadata": {},
   "outputs": [
    {
     "data": {
      "text/plain": [
       "[['09', 5.5777777777777775],\n",
       " ['13', 14.741176470588234],\n",
       " ['10', 13.440677966101696],\n",
       " ['14', 13.233644859813085],\n",
       " ['16', 16.796296296296298],\n",
       " ['23', 7.985294117647059],\n",
       " ['12', 9.41095890410959],\n",
       " ['17', 11.46],\n",
       " ['15', 38.5948275862069],\n",
       " ['21', 16.009174311926607],\n",
       " ['20', 21.525],\n",
       " ['02', 23.810344827586206],\n",
       " ['18', 13.20183486238532],\n",
       " ['03', 7.796296296296297],\n",
       " ['05', 10.08695652173913],\n",
       " ['19', 10.8],\n",
       " ['01', 11.383333333333333],\n",
       " ['22', 6.746478873239437],\n",
       " ['08', 10.25],\n",
       " ['04', 7.170212765957447],\n",
       " ['00', 8.127272727272727],\n",
       " ['06', 9.022727272727273],\n",
       " ['07', 7.852941176470588],\n",
       " ['11', 11.051724137931034]]"
      ]
     },
     "execution_count": 14,
     "metadata": {},
     "output_type": "execute_result"
    }
   ],
   "source": [
    "avg_by_hour"
   ]
  },
  {
   "cell_type": "markdown",
   "metadata": {},
   "source": [
    "We can see after calculating the avg number of comments per hour that roughly every post by hour averages about 7 comments roughly. So next we will clean up and sort this data to make it alittle easier to read."
   ]
  },
  {
   "cell_type": "markdown",
   "metadata": {},
   "source": [
    "### 7. Sorting and Printing values from a list of lists"
   ]
  },
  {
   "cell_type": "code",
   "execution_count": 15,
   "metadata": {},
   "outputs": [
    {
     "data": {
      "text/plain": [
       "[[5.5777777777777775, '09'],\n",
       " [14.741176470588234, '13'],\n",
       " [13.440677966101696, '10'],\n",
       " [13.233644859813085, '14'],\n",
       " [16.796296296296298, '16'],\n",
       " [7.985294117647059, '23'],\n",
       " [9.41095890410959, '12'],\n",
       " [11.46, '17'],\n",
       " [38.5948275862069, '15'],\n",
       " [16.009174311926607, '21'],\n",
       " [21.525, '20'],\n",
       " [23.810344827586206, '02'],\n",
       " [13.20183486238532, '18'],\n",
       " [7.796296296296297, '03'],\n",
       " [10.08695652173913, '05'],\n",
       " [10.8, '19'],\n",
       " [11.383333333333333, '01'],\n",
       " [6.746478873239437, '22'],\n",
       " [10.25, '08'],\n",
       " [7.170212765957447, '04'],\n",
       " [8.127272727272727, '00'],\n",
       " [9.022727272727273, '06'],\n",
       " [7.852941176470588, '07'],\n",
       " [11.051724137931034, '11']]"
      ]
     },
     "execution_count": 15,
     "metadata": {},
     "output_type": "execute_result"
    }
   ],
   "source": [
    "## Invert the Comments with the hour\n",
    "swap_avg_by_hour = []\n",
    "for element in avg_by_hour:\n",
    "    swap_avg_by_hour.append([element[1],element[0]])\n",
    "swap_avg_by_hour"
   ]
  },
  {
   "cell_type": "code",
   "execution_count": 16,
   "metadata": {},
   "outputs": [
    {
     "data": {
      "text/plain": [
       "[[38.5948275862069, '15'],\n",
       " [23.810344827586206, '02'],\n",
       " [21.525, '20'],\n",
       " [16.796296296296298, '16'],\n",
       " [16.009174311926607, '21'],\n",
       " [14.741176470588234, '13'],\n",
       " [13.440677966101696, '10'],\n",
       " [13.233644859813085, '14'],\n",
       " [13.20183486238532, '18'],\n",
       " [11.46, '17'],\n",
       " [11.383333333333333, '01'],\n",
       " [11.051724137931034, '11'],\n",
       " [10.8, '19'],\n",
       " [10.25, '08'],\n",
       " [10.08695652173913, '05'],\n",
       " [9.41095890410959, '12'],\n",
       " [9.022727272727273, '06'],\n",
       " [8.127272727272727, '00'],\n",
       " [7.985294117647059, '23'],\n",
       " [7.852941176470588, '07'],\n",
       " [7.796296296296297, '03'],\n",
       " [7.170212765957447, '04'],\n",
       " [6.746478873239437, '22'],\n",
       " [5.5777777777777775, '09']]"
      ]
     },
     "execution_count": 16,
     "metadata": {},
     "output_type": "execute_result"
    }
   ],
   "source": [
    "sorted_swap = sorted(swap_avg_by_hour, reverse=True)\n",
    "sorted_swap"
   ]
  },
  {
   "cell_type": "code",
   "execution_count": 17,
   "metadata": {},
   "outputs": [
    {
     "name": "stdout",
     "output_type": "stream",
     "text": [
      "Top 5 Hours for Ask Posts Comments\n",
      "15:00:38.59 avg comments per post\n",
      "02:00:23.81 avg comments per post\n",
      "20:00:21.52 avg comments per post\n",
      "16:00:16.80 avg comments per post\n",
      "21:00:16.01 avg comments per post\n"
     ]
    }
   ],
   "source": [
    "print(\"Top 5 Hours for Ask Posts Comments\")\n",
    "i = 0\n",
    "for row in sorted_swap:\n",
    "    if i < 5:\n",
    "        date = dt.time(hour=int(row[1]))\n",
    "        hour = dt.time.strftime(date,\"%H:%M\")\n",
    "        print(\"{hour}:{avg:.2f} avg comments per post\".format(hour=hour, avg=row[0]))\n",
    "        i+=1"
   ]
  },
  {
   "cell_type": "markdown",
   "metadata": {},
   "source": [
    "3 pm = 38.6<br>\n",
    "2 am = 23.8<br>\n",
    "8 pm = 21.5<br>\n",
    "4 pm = 16.8<br>\n",
    "9 pm = 16<br>\n",
    "\n",
    "Seemingly the best hours to get a higher chance of recieving comments take place in the afternoon to night for EST. There seems to be a correlation with just before the work day typically ends for most that leads to a higher amount of comments."
   ]
  },
  {
   "cell_type": "markdown",
   "metadata": {},
   "source": [
    "### 8. Calculating the Average Number of Points for Ask / Show HN posts."
   ]
  },
  {
   "cell_type": "code",
   "execution_count": 18,
   "metadata": {},
   "outputs": [
    {
     "name": "stdout",
     "output_type": "stream",
     "text": [
      "15.061926605504587\n"
     ]
    }
   ],
   "source": [
    "total_ask_points = 0\n",
    "for row in ask_posts:\n",
    "    num_points = int(row[3])\n",
    "    total_ask_points+=num_points\n",
    "avg_ask_points = total_ask_points/len(ask_posts)\n",
    "print(avg_ask_points)"
   ]
  },
  {
   "cell_type": "code",
   "execution_count": 19,
   "metadata": {},
   "outputs": [
    {
     "name": "stdout",
     "output_type": "stream",
     "text": [
      "22.605851979345957\n"
     ]
    }
   ],
   "source": [
    "total_show_points = 0\n",
    "for row in ask_posts:\n",
    "    num_points = int(row[3])\n",
    "    total_show_points+=num_points\n",
    "avg_show_points = total_show_points/len(show_posts)\n",
    "print(avg_show_points)"
   ]
  },
  {
   "cell_type": "markdown",
   "metadata": {},
   "source": [
    "Upon inspecting the average points for ask / show hn posts we can see that on average show posts recieve roughly 7 more points per post at 22.61 vs the average of ask points per post being 10.32. Since show posts are more likely to recieve points we will focus our remaining analysis on just these posts."
   ]
  },
  {
   "cell_type": "markdown",
   "metadata": {},
   "source": [
    "### 9. Finding the Amount of Show Posts and Points by Hour Created"
   ]
  },
  {
   "cell_type": "code",
   "execution_count": 20,
   "metadata": {},
   "outputs": [],
   "source": [
    "import datetime as dt\n",
    "result_list=[]\n",
    "\n",
    "for row in ask_posts:\n",
    "    result_list.append([row[6],int(row[3])])\n",
    "count_by_hour={}\n",
    "points_by_hour={}\n",
    "for row in result_list:\n",
    "    date = dt.datetime.strptime(row[0],\"%m/%d/%Y %H:%M\")\n",
    "    hour = dt.datetime.strftime(date,\"%H\")\n",
    "    if hour not in count_by_hour:\n",
    "        count_by_hour[hour] = 1\n",
    "        points_by_hour[hour] = row[1]\n",
    "    else:\n",
    "        count_by_hour[hour]+=1\n",
    "        points_by_hour[hour]+=row[1]"
   ]
  },
  {
   "cell_type": "code",
   "execution_count": 21,
   "metadata": {},
   "outputs": [
    {
     "name": "stdout",
     "output_type": "stream",
     "text": [
      "{'09': 329, '13': 2062, '10': 1102, '14': 1282, '16': 2522, '23': 581, '12': 782, '17': 1941, '15': 3479, '21': 1721, '20': 1151, '02': 793, '18': 1741, '03': 374, '05': 552, '19': 1513, '01': 700, '22': 511, '08': 515, '04': 389, '00': 451, '06': 591, '07': 361, '11': 825}\n",
      "{'09': 45, '13': 85, '10': 59, '14': 107, '16': 108, '23': 68, '12': 73, '17': 100, '15': 116, '21': 109, '20': 80, '02': 58, '18': 109, '03': 54, '05': 46, '19': 110, '01': 60, '22': 71, '08': 48, '04': 47, '00': 55, '06': 44, '07': 34, '11': 58}\n"
     ]
    }
   ],
   "source": [
    "print(points_by_hour)\n",
    "print(count_by_hour)"
   ]
  },
  {
   "cell_type": "markdown",
   "metadata": {},
   "source": [
    "Exploring the data we found we can see that certain hours are more popular by hour. Of course being that hour 15 was the most popular hour in our original exploration of comments per hour no surprise to see that hour is also one of the most popular for points as well."
   ]
  },
  {
   "cell_type": "markdown",
   "metadata": {},
   "source": [
    "### 10.Calculating the Average Number of Points for Show HN Posts by Hour"
   ]
  },
  {
   "cell_type": "code",
   "execution_count": 22,
   "metadata": {},
   "outputs": [
    {
     "data": {
      "text/plain": [
       "[['09', 7.311111111111111],\n",
       " ['13', 24.258823529411764],\n",
       " ['10', 18.677966101694917],\n",
       " ['14', 11.981308411214954],\n",
       " ['16', 23.35185185185185],\n",
       " ['23', 8.544117647058824],\n",
       " ['12', 10.712328767123287],\n",
       " ['17', 19.41],\n",
       " ['15', 29.99137931034483],\n",
       " ['21', 15.788990825688073],\n",
       " ['20', 14.3875],\n",
       " ['02', 13.672413793103448],\n",
       " ['18', 15.972477064220184],\n",
       " ['03', 6.925925925925926],\n",
       " ['05', 12.0],\n",
       " ['19', 13.754545454545454],\n",
       " ['01', 11.666666666666666],\n",
       " ['22', 7.197183098591549],\n",
       " ['08', 10.729166666666666],\n",
       " ['04', 8.27659574468085],\n",
       " ['00', 8.2],\n",
       " ['06', 13.431818181818182],\n",
       " ['07', 10.617647058823529],\n",
       " ['11', 14.224137931034482]]"
      ]
     },
     "execution_count": 22,
     "metadata": {},
     "output_type": "execute_result"
    }
   ],
   "source": [
    "avg_by_hour = []\n",
    "for hours in points_by_hour:\n",
    "    avg_by_hour.append([hours,points_by_hour[hours]/count_by_hour[hours]])\n",
    "avg_by_hour"
   ]
  },
  {
   "cell_type": "markdown",
   "metadata": {},
   "source": [
    "We can see after calculating the avg number of points per hour that roughly every post by hour averages atleast about 7 comments roughly as well. So very similar to the Ask comments total. So next we will clean up and sort this data to make it alittle easier to read."
   ]
  },
  {
   "cell_type": "markdown",
   "metadata": {},
   "source": [
    "### 11. Sorting and Printing values from a list of lists"
   ]
  },
  {
   "cell_type": "code",
   "execution_count": 23,
   "metadata": {},
   "outputs": [
    {
     "data": {
      "text/plain": [
       "[[7.311111111111111, '09'],\n",
       " [24.258823529411764, '13'],\n",
       " [18.677966101694917, '10'],\n",
       " [11.981308411214954, '14'],\n",
       " [23.35185185185185, '16'],\n",
       " [8.544117647058824, '23'],\n",
       " [10.712328767123287, '12'],\n",
       " [19.41, '17'],\n",
       " [29.99137931034483, '15'],\n",
       " [15.788990825688073, '21'],\n",
       " [14.3875, '20'],\n",
       " [13.672413793103448, '02'],\n",
       " [15.972477064220184, '18'],\n",
       " [6.925925925925926, '03'],\n",
       " [12.0, '05'],\n",
       " [13.754545454545454, '19'],\n",
       " [11.666666666666666, '01'],\n",
       " [7.197183098591549, '22'],\n",
       " [10.729166666666666, '08'],\n",
       " [8.27659574468085, '04'],\n",
       " [8.2, '00'],\n",
       " [13.431818181818182, '06'],\n",
       " [10.617647058823529, '07'],\n",
       " [14.224137931034482, '11']]"
      ]
     },
     "execution_count": 23,
     "metadata": {},
     "output_type": "execute_result"
    }
   ],
   "source": [
    "## Invert the Points with the hour\n",
    "swap_avg_by_hour = []\n",
    "for element in avg_by_hour:\n",
    "    swap_avg_by_hour.append([element[1],element[0]])\n",
    "swap_avg_by_hour"
   ]
  },
  {
   "cell_type": "code",
   "execution_count": 24,
   "metadata": {},
   "outputs": [
    {
     "data": {
      "text/plain": [
       "[[29.99137931034483, '15'],\n",
       " [24.258823529411764, '13'],\n",
       " [23.35185185185185, '16'],\n",
       " [19.41, '17'],\n",
       " [18.677966101694917, '10'],\n",
       " [15.972477064220184, '18'],\n",
       " [15.788990825688073, '21'],\n",
       " [14.3875, '20'],\n",
       " [14.224137931034482, '11'],\n",
       " [13.754545454545454, '19'],\n",
       " [13.672413793103448, '02'],\n",
       " [13.431818181818182, '06'],\n",
       " [12.0, '05'],\n",
       " [11.981308411214954, '14'],\n",
       " [11.666666666666666, '01'],\n",
       " [10.729166666666666, '08'],\n",
       " [10.712328767123287, '12'],\n",
       " [10.617647058823529, '07'],\n",
       " [8.544117647058824, '23'],\n",
       " [8.27659574468085, '04'],\n",
       " [8.2, '00'],\n",
       " [7.311111111111111, '09'],\n",
       " [7.197183098591549, '22'],\n",
       " [6.925925925925926, '03']]"
      ]
     },
     "execution_count": 24,
     "metadata": {},
     "output_type": "execute_result"
    }
   ],
   "source": [
    "sorted_swap = sorted(swap_avg_by_hour, reverse=True)\n",
    "sorted_swap"
   ]
  },
  {
   "cell_type": "code",
   "execution_count": 25,
   "metadata": {},
   "outputs": [
    {
     "name": "stdout",
     "output_type": "stream",
     "text": [
      "Top 5 Hours for Show Posts Points\n",
      "15:00:29.99 avg points per post\n",
      "13:00:24.26 avg points per post\n",
      "16:00:23.35 avg points per post\n",
      "17:00:19.41 avg points per post\n",
      "10:00:18.68 avg points per post\n"
     ]
    }
   ],
   "source": [
    "print(\"Top 5 Hours for Show Posts Points\")\n",
    "i = 0\n",
    "for row in sorted_swap:\n",
    "    if i < 5:\n",
    "        date = dt.time(hour=int(row[1]))\n",
    "        hour = dt.time.strftime(date,\"%H:%M\")\n",
    "        print(\"{hour}:{avg:.2f} avg points per post\".format(hour=hour, avg=row[0]))\n",
    "        i+=1"
   ]
  },
  {
   "cell_type": "markdown",
   "metadata": {},
   "source": [
    "3 pm = 29.99<br>\n",
    "1 pm = 24.26<br>\n",
    "4 pm = 23.35<br>\n",
    "5 pm = 19.41<br>\n",
    "10 am = 18.68<br>\n",
    "\n",
    "Seemingly the best hours to get a higher chance of recieving points take place in the  late moring to early afternoon for EST. There seems to be a correlation with lunch time to the winding down of the work day that leads to a higher amount of points."
   ]
  }
 ],
 "metadata": {
  "celltoolbar": "Raw Cell Format",
  "kernelspec": {
   "display_name": "Python 3",
   "language": "python",
   "name": "python3"
  },
  "language_info": {
   "codemirror_mode": {
    "name": "ipython",
    "version": 3
   },
   "file_extension": ".py",
   "mimetype": "text/x-python",
   "name": "python",
   "nbconvert_exporter": "python",
   "pygments_lexer": "ipython3",
   "version": "3.7.4"
  }
 },
 "nbformat": 4,
 "nbformat_minor": 2
}
